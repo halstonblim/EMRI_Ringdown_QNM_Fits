{
 "cells": [
  {
   "cell_type": "markdown",
   "id": "a11c4dcd-3992-46ee-99a8-f6ab1f76f225",
   "metadata": {},
   "source": [
    "# Example 1: Measuring QNM amplitudes from ringdown waveforms\n",
    "\n",
    "This notebook demonstrates how to use the $\\texttt{fitrd}$ module to extract QNM amplitudes from ringdown waveforms. \n",
    "\n",
    "In particular, we calcualte the mode amplitudes presented in Table 1 of Lim and Hughes (2022), for an extreme mass ratio plunge with plunge parameters $\\lbrace I,\\theta_{\\rm fin},{\\rm sgn}(\\dot{\\theta}_{\\rm fin}) \\rbrace = \\lbrace 137^\\circ, 79.9^\\circ, 1 \\rbrace$"
   ]
  },
  {
   "cell_type": "code",
   "execution_count": 9,
   "id": "080e1d0c-3f35-454e-b7ef-18378de14255",
   "metadata": {
    "execution": {
     "iopub.execute_input": "2021-12-08T15:48:34.554870Z",
     "iopub.status.busy": "2021-12-08T15:48:34.554233Z",
     "iopub.status.idle": "2021-12-08T15:48:34.562303Z",
     "shell.execute_reply": "2021-12-08T15:48:34.560851Z",
     "shell.execute_reply.started": "2021-12-08T15:48:34.554807Z"
    },
    "tags": []
   },
   "outputs": [],
   "source": [
    "import os\n",
    "import numpy as np\n",
    "import pandas as pd\n",
    "import matplotlib.pyplot as plt\n",
    "import fitrd.fitrd as fitrd"
   ]
  },
  {
   "cell_type": "markdown",
   "id": "4d7e981d-3f3c-4be7-a577-46b333d5bf25",
   "metadata": {
    "execution": {
     "iopub.execute_input": "2021-12-08T14:44:35.639652Z",
     "iopub.status.busy": "2021-12-08T14:44:35.639168Z",
     "iopub.status.idle": "2021-12-08T14:44:35.649514Z",
     "shell.execute_reply": "2021-12-08T14:44:35.646687Z",
     "shell.execute_reply.started": "2021-12-08T14:44:35.639592Z"
    },
    "tags": []
   },
   "source": [
    "### Calculate fiducial time $t_0$ \n",
    "\n",
    "- Load trajectory data $r(t)$\n",
    "- Calculate fiducial time as radial crossing time of equivalent prograde equatorial light ring, $t_0 = t_{\\rm lr-cross}$ [c.f. Eq. (7) in Lim and Hughes (2022)]"
   ]
  },
  {
   "cell_type": "code",
   "execution_count": 10,
   "id": "025143b2-31b2-45c8-a485-ca5fc660c2b8",
   "metadata": {
    "execution": {
     "iopub.execute_input": "2021-12-08T15:48:34.564666Z",
     "iopub.status.busy": "2021-12-08T15:48:34.564377Z",
     "iopub.status.idle": "2021-12-08T15:48:35.101552Z",
     "shell.execute_reply": "2021-12-08T15:48:35.100491Z",
     "shell.execute_reply.started": "2021-12-08T15:48:34.564634Z"
    },
    "tags": []
   },
   "outputs": [],
   "source": [
    "traj_data = pd.read_csv(\"./sample_data/a0.5_thi137_thf079.9_p.traj\",delim_whitespace=True,usecols=[0,1], names=['t','r'],skiprows=240000)\n",
    "lr_radius = 2*(1+np.cos((2./3.)*np.arccos(-np.abs(0.5))))\n",
    "t_fiducial = np.interp(lr_radius, traj_data['r'].loc[::-1],traj_data['t'].loc[::-1])"
   ]
  },
  {
   "cell_type": "markdown",
   "id": "1db260fc-be91-4528-b6e9-5f984983a95c",
   "metadata": {},
   "source": [
    "### Solve for spheroidal amplitudes over time \n",
    "\n",
    "Perform algorithm for a set of spherical modes of index $m$: $\\lbrace {h}{_{\\ell m}^{\\rm N}}(t) \\rbrace \\rightarrow  \\lbrace \\mathcal{A}_{kmn},\\varphi_{k m n},\\mathcal{A}'_{k -m n}, \\varphi'_{k -m n} \\rbrace$\n",
    "\n",
    "- Include spheroidal-spherical mode mixing in the range $\\ell_{\\rm min} \\leq \\ell \\leq |m| + K_{\\ell}$ [c.f. Eq. (3.10) in Lim, Khanna, Apte, Hughes (2019)]\n",
    "- $\\texttt{preparesystem}$ pre-computes weights used in the algorithm. If this is the first time running, will store result as a numpy pickle and use for future calculations by default.\n",
    "- List of extracted QNM modes are labeled by $(\\ell, m, I_{\\rm mirror})$, where $I_{\\rm mirror} = 1$ if mirror mode and $I_{\\rm mirror} =0$ if non-mirror mode\n"
   ]
  },
  {
   "cell_type": "code",
   "execution_count": 20,
   "id": "78835df3-b4b2-43f9-824a-db3450d22293",
   "metadata": {
    "execution": {
     "iopub.execute_input": "2021-12-08T15:49:16.955892Z",
     "iopub.status.busy": "2021-12-08T15:49:16.955444Z",
     "iopub.status.idle": "2021-12-08T15:49:42.345794Z",
     "shell.execute_reply": "2021-12-08T15:49:42.344944Z",
     "shell.execute_reply.started": "2021-12-08T15:49:16.955835Z"
    },
    "tags": []
   },
   "outputs": [],
   "source": [
    "k_ell = 4\n",
    "m_range = np.arange(-4,5)\n",
    "\n",
    "spherical_modes = {}  # stores labels for spherical modes used by algorithm, for each m\n",
    "spheroidal_modes = {} # stores labels for spheroidal modes calculated by the algorithm, for each m\n",
    "spheroidal_coefs = {} # stores spheroidal coefficients at each fitting time, for each m\n",
    "\n",
    "for m in m_range:\n",
    "    spherical_modes[m], time, spheroidal_coefs[m] = fitrd.solve_system(m, k_ell, t_fiducial, \n",
    "                                                                       [f\"./sample_data/h{fitrd.mlabel(m)}_a0.5_thi137_thf079.9_p.dat\"],\n",
    "                                                                       fitrd.preparesystem(m,0.5,k_ell,cachedir='./precomputed_weights'))\n",
    "    \n",
    "    spheroidal_modes[m] = fitrd.get_spheroidalmodes(spherical_modes[m])"
   ]
  },
  {
   "cell_type": "markdown",
   "id": "a051953e-505d-41b0-9ce6-2877ff468f21",
   "metadata": {},
   "source": [
    "Note how the mirror modes are extracted from the spherical modes labeled by index $-m$. For example, the $(2,2,1)$ QNM is extracted from the $m = -2$ spherical modes"
   ]
  },
  {
   "cell_type": "code",
   "execution_count": 29,
   "id": "c6d70974-e1b1-4617-a3a6-bf11266f4888",
   "metadata": {
    "execution": {
     "iopub.execute_input": "2021-12-08T15:51:18.470804Z",
     "iopub.status.busy": "2021-12-08T15:51:18.469640Z",
     "iopub.status.idle": "2021-12-08T15:51:18.479821Z",
     "shell.execute_reply": "2021-12-08T15:51:18.477908Z",
     "shell.execute_reply.started": "2021-12-08T15:51:18.470742Z"
    },
    "tags": []
   },
   "outputs": [
    {
     "name": "stdout",
     "output_type": "stream",
     "text": [
      "inputted spherical modes   [[2, -2], [3, -2], [4, -2], [5, -2], [6, -2]]\n",
      "extracted spheroidal modes [[2, -2, 0], [2, 2, 1], [3, -2, 0], [3, 2, 1], [4, -2, 0], [4, 2, 1], [5, -2, 0], [5, 2, 1], [6, -2, 0], [6, 2, 1]]\n"
     ]
    }
   ],
   "source": [
    "print('inputted spherical modes  ', spherical_modes[-2])\n",
    "print('extracted spheroidal modes', spheroidal_modes[-2])"
   ]
  },
  {
   "cell_type": "markdown",
   "id": "971a45cb-b53e-4447-98c2-6ac3c0263e90",
   "metadata": {},
   "source": [
    "### Calculate QNM amplitudes\n",
    "Averaging spheroidal amplitudes over fitting times"
   ]
  },
  {
   "cell_type": "code",
   "execution_count": 13,
   "id": "2bdaa304-7cbf-4914-9bd3-9ed4af181c04",
   "metadata": {
    "execution": {
     "iopub.execute_input": "2021-12-08T15:48:40.285740Z",
     "iopub.status.busy": "2021-12-08T15:48:40.285283Z",
     "iopub.status.idle": "2021-12-08T15:48:43.618613Z",
     "shell.execute_reply": "2021-12-08T15:48:43.617423Z",
     "shell.execute_reply.started": "2021-12-08T15:48:40.285711Z"
    },
    "tags": []
   },
   "outputs": [],
   "source": [
    "# Fit averaging hyperparameters\n",
    "t_start = t_fiducial + 10\n",
    "t_end = t_start + 220\n",
    "t_window = 50\n",
    "\n",
    "c_amps = {} # store QNM amplitudes for each m\n",
    "c_phases = {} # store QNM phases for each m\n",
    "\n",
    "for m in m_range:\n",
    "    c_amps[m], c_phases[m] = fitrd.postprocess(time,spheroidal_coefs[m],t_start,t_end,t_window)"
   ]
  },
  {
   "cell_type": "markdown",
   "id": "ec99827a-9edf-4c81-8cdd-b838074616ef",
   "metadata": {},
   "source": [
    "### Plot algorithm output\n",
    "Specify which QNM to plot, labeled by $(\\ell, m, I_{\\rm mirror})$"
   ]
  },
  {
   "cell_type": "code",
   "execution_count": 14,
   "id": "f40558c7-deea-40cc-86e1-a789c233fc4a",
   "metadata": {
    "execution": {
     "iopub.execute_input": "2021-12-08T15:48:43.619605Z",
     "iopub.status.busy": "2021-12-08T15:48:43.619400Z",
     "iopub.status.idle": "2021-12-08T15:48:43.625940Z",
     "shell.execute_reply": "2021-12-08T15:48:43.624534Z",
     "shell.execute_reply.started": "2021-12-08T15:48:43.619577Z"
    },
    "tags": []
   },
   "outputs": [],
   "source": [
    "l = 2\n",
    "m = 1\n",
    "I_mirror = 0\n",
    "mode_to_plot = [l,m,I_mirror]"
   ]
  },
  {
   "cell_type": "code",
   "execution_count": 15,
   "id": "82617567-8520-47ea-a0d2-e2d5e65209fd",
   "metadata": {
    "execution": {
     "iopub.execute_input": "2021-12-08T15:48:43.627959Z",
     "iopub.status.busy": "2021-12-08T15:48:43.627624Z",
     "iopub.status.idle": "2021-12-08T15:48:43.900652Z",
     "shell.execute_reply": "2021-12-08T15:48:43.899375Z",
     "shell.execute_reply.started": "2021-12-08T15:48:43.627916Z"
    },
    "tags": []
   },
   "outputs": [
    {
     "data": {
      "image/png": "[encoded data removed]",
      "text/plain": [
       "<Figure size 750x300 with 1 Axes>"
      ]
     },
     "metadata": {
      "needs_background": "light"
     },
     "output_type": "display_data"
    }
   ],
   "source": [
    "m_spherical = m * (-1)**(I_mirror)\n",
    "\n",
    "i = spheroidal_modes[m_spherical].index(mode_to_plot)\n",
    "\n",
    "c_lm_avg = c_amps[m_spherical][i] * np.exp(1j * c_phases[m_spherical][i])\n",
    "\n",
    "if mode_to_plot[2] == 0:\n",
    "    mlabel = r\"$\\mathcal{C}_{%d%d}$\" % tuple(mode_to_plot[:2])\n",
    "elif mode_to_plot[2] == 1:\n",
    "    mlabel = r\"$\\mathcal{C}'_{%d%d}$\" % tuple(mode_to_plot[:2])\n",
    "    \n",
    "mask = (time >= t_fiducial + -20) & (time <= t_fiducial + 100)\n",
    "c_lm_time = spheroidal_coefs[m_spherical][mask,i]\n",
    "\n",
    "plt.figure(figsize=(5,2),dpi=150)\n",
    "\n",
    "plt.plot(time[mask] - t_fiducial,c_lm_time.real,color='C0');\n",
    "plt.axhline(c_lm_avg.real,ls='--',color='C0',label=r\"$\\mathfrak{R}${%s}\" % mlabel)\n",
    "\n",
    "plt.plot(time[mask] - t_fiducial,c_lm_time.imag,color='C1');\n",
    "plt.axhline(c_lm_avg.imag,ls='--',color='C1',label=r\"$\\mathfrak{I}${%s}\" % mlabel)\n",
    "\n",
    "plt.legend(frameon=False);\n",
    "plt.xlabel(r'$t - t_0\\ \\lbrack M \\rbrack$');"
   ]
  },
  {
   "cell_type": "markdown",
   "id": "e122b7ab-7972-415b-a750-36492703a67c",
   "metadata": {},
   "source": [
    "### Reproduce Table 1 in Lim and Hughes (2022)"
   ]
  },
  {
   "cell_type": "code",
   "execution_count": 16,
   "id": "e9ad9387-458e-460d-ba89-e0525f3b48a4",
   "metadata": {
    "execution": {
     "iopub.execute_input": "2021-12-08T15:48:43.902518Z",
     "iopub.status.busy": "2021-12-08T15:48:43.902191Z",
     "iopub.status.idle": "2021-12-08T15:48:43.923207Z",
     "shell.execute_reply": "2021-12-08T15:48:43.921791Z",
     "shell.execute_reply.started": "2021-12-08T15:48:43.902476Z"
    },
    "tags": []
   },
   "outputs": [],
   "source": [
    "modes_in_table = [(2,1),(2,-2),(2,0),(2,-1),(2,2),(3,-3),(3,-1),(3,0)]\n",
    "\n",
    "table = pd.DataFrame(columns=['Alm','Alm_prime'],index=pd.MultiIndex.from_tuples([mode for mode in modes_in_table],names=['l','m']))\n",
    "table['Alm'][modes_in_table] = [c_amps[mode[1]][spheroidal_modes[mode[1]].index(list(mode) + [0])] for mode in modes_in_table]\n",
    "table['Alm_prime'][modes_in_table] = [c_amps[-mode[1]][spheroidal_modes[-mode[1]].index(list(mode) + [1])] for mode in modes_in_table]"
   ]
  },
  {
   "cell_type": "code",
   "execution_count": 17,
   "id": "66d17778-88bb-48ff-ba16-68e513946b44",
   "metadata": {
    "execution": {
     "iopub.execute_input": "2021-12-08T15:48:43.924968Z",
     "iopub.status.busy": "2021-12-08T15:48:43.924555Z",
     "iopub.status.idle": "2021-12-08T15:48:43.947164Z",
     "shell.execute_reply": "2021-12-08T15:48:43.945766Z",
     "shell.execute_reply.started": "2021-12-08T15:48:43.924931Z"
    },
    "tags": []
   },
   "outputs": [
    {
     "data": {
      "text/html": [
       "<div>\n",
       "<style scoped>\n",
       "    .dataframe tbody tr th:only-of-type {\n",
       "        vertical-align: middle;\n",
       "    }\n",
       "\n",
       "    .dataframe tbody tr th {\n",
       "        vertical-align: top;\n",
       "    }\n",
       "\n",
       "    .dataframe thead th {\n",
       "        text-align: right;\n",
       "    }\n",
       "</style>\n",
       "<table border=\"1\" class=\"dataframe\">\n",
       "  <thead>\n",
       "    <tr style=\"text-align: right;\">\n",
       "      <th></th>\n",
       "      <th></th>\n",
       "      <th>Alm</th>\n",
       "      <th>Alm_prime</th>\n",
       "    </tr>\n",
       "    <tr>\n",
       "      <th>l</th>\n",
       "      <th>m</th>\n",
       "      <th></th>\n",
       "      <th></th>\n",
       "    </tr>\n",
       "  </thead>\n",
       "  <tbody>\n",
       "    <tr>\n",
       "      <th rowspan=\"5\" valign=\"top\">2</th>\n",
       "      <th>1</th>\n",
       "      <td>1.69</td>\n",
       "      <td>0.09</td>\n",
       "    </tr>\n",
       "    <tr>\n",
       "      <th>-2</th>\n",
       "      <td>1.18</td>\n",
       "      <td>1.71</td>\n",
       "    </tr>\n",
       "    <tr>\n",
       "      <th>0</th>\n",
       "      <td>1.93</td>\n",
       "      <td>0.49</td>\n",
       "    </tr>\n",
       "    <tr>\n",
       "      <th>-1</th>\n",
       "      <td>1.74</td>\n",
       "      <td>1.04</td>\n",
       "    </tr>\n",
       "    <tr>\n",
       "      <th>2</th>\n",
       "      <td>1.0</td>\n",
       "      <td>0.04</td>\n",
       "    </tr>\n",
       "    <tr>\n",
       "      <th rowspan=\"3\" valign=\"top\">3</th>\n",
       "      <th>-3</th>\n",
       "      <td>0.39</td>\n",
       "      <td>0.61</td>\n",
       "    </tr>\n",
       "    <tr>\n",
       "      <th>-1</th>\n",
       "      <td>0.69</td>\n",
       "      <td>0.23</td>\n",
       "    </tr>\n",
       "    <tr>\n",
       "      <th>0</th>\n",
       "      <td>0.62</td>\n",
       "      <td>0.09</td>\n",
       "    </tr>\n",
       "  </tbody>\n",
       "</table>\n",
       "</div>"
      ],
      "text/plain": [
       "       Alm Alm_prime\n",
       "l m                 \n",
       "2  1  1.69      0.09\n",
       "  -2  1.18      1.71\n",
       "   0  1.93      0.49\n",
       "  -1  1.74      1.04\n",
       "   2   1.0      0.04\n",
       "3 -3  0.39      0.61\n",
       "  -1  0.69      0.23\n",
       "   0  0.62      0.09"
      ]
     },
     "execution_count": 17,
     "metadata": {},
     "output_type": "execute_result"
    }
   ],
   "source": [
    "pd.set_option(\"display.precision\", 2)\n",
    "table"
   ]
  }
 ],
 "metadata": {
  "kernelspec": {
   "display_name": "Python 3 (ipykernel)",
   "language": "python",
   "name": "python3"
  },
  "language_info": {
   "codemirror_mode": {
    "name": "ipython",
    "version": 3
   },
   "file_extension": ".py",
   "mimetype": "text/x-python",
   "name": "python",
   "nbconvert_exporter": "python",
   "pygments_lexer": "ipython3",
   "version": "3.8.12"
  }
 },
 "nbformat": 4,
 "nbformat_minor": 5
}
